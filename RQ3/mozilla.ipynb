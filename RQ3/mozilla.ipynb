{
 "cells": [
  {
   "cell_type": "code",
   "execution_count": 1,
   "id": "b1b079a6",
   "metadata": {},
   "outputs": [
    {
     "name": "stdout",
     "output_type": "stream",
     "text": [
      "recall for mozilla after cv: 0.71\n",
      "precision for mozilla after cv: 0.7\n",
      "f1 for mozilla after cv: 0.7\n",
      "auc_cv for mozilla after cv: 0.74\n"
     ]
    }
   ],
   "source": [
    "# Decision Tree Classifier Model\n",
    "import pandas as pd\n",
    "import numpy as np\n",
    "from sklearn.model_selection import cross_val_score\n",
    "\n",
    "mozilla_file_path = '/Users/sarayabesi/Documents/Log6307/Replicate-article/data-files/IST_MOZ.csv'\n",
    "mozilla_data = pd.read_csv(mozilla_file_path)\n",
    "mozilla_data\n",
    "\n",
    "y = mozilla_data.defect_status\n",
    "\n",
    "X = mozilla_data.iloc[:, 2: -1 ]\n",
    "\n",
    "from sklearn.model_selection import train_test_split\n",
    "train_X, val_X, train_y, val_y = train_test_split(X,y,train_size = 0.9,random_state=1)\n",
    "\n",
    "from sklearn.tree import DecisionTreeClassifier\n",
    "mozilla_model = DecisionTreeClassifier(random_state=0)\n",
    "mozilla_model.fit(train_X, train_y)\n",
    "val_predictions = mozilla_model.predict(val_X)\n",
    "\n",
    "mozilla_recall_cv = cross_val_score(mozilla_model, X, y, cv=10, scoring='recall')\n",
    "print(\"recall for mozilla after cv:\",round(np.median(mozilla_recall_cv) , 2))\n",
    "\n",
    "mozilla_precision_cv = cross_val_score(mozilla_model, X, y, cv=10, scoring='precision')\n",
    "print(\"precision for mozilla after cv:\",round(np.median(mozilla_precision_cv) , 2))\n",
    "\n",
    "mozilla_f1_cv = cross_val_score(mozilla_model, X, y, cv=10, scoring='f1')\n",
    "print(\"f1 for mozilla after cv:\",round(np.median(mozilla_f1_cv) , 2))\n",
    "\n",
    "mozilla_auc_cv = cross_val_score(mozilla_model, X, y, cv=10, scoring='roc_auc')\n",
    "print(\"auc_cv for mozilla after cv:\",round(np.median(mozilla_auc_cv) , 2))"
   ]
  },
  {
   "cell_type": "code",
   "execution_count": null,
   "id": "09cead6c",
   "metadata": {},
   "outputs": [],
   "source": []
  },
  {
   "cell_type": "code",
   "execution_count": null,
   "id": "56866e30",
   "metadata": {},
   "outputs": [],
   "source": []
  }
 ],
 "metadata": {
  "kernelspec": {
   "display_name": "Python 3 (ipykernel)",
   "language": "python",
   "name": "python3"
  },
  "language_info": {
   "codemirror_mode": {
    "name": "ipython",
    "version": 3
   },
   "file_extension": ".py",
   "mimetype": "text/x-python",
   "name": "python",
   "nbconvert_exporter": "python",
   "pygments_lexer": "ipython3",
   "version": "3.9.12"
  }
 },
 "nbformat": 4,
 "nbformat_minor": 5
}
