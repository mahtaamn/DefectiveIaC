{
 "cells": [
  {
   "cell_type": "code",
   "execution_count": 1,
   "id": "a669f4b1",
   "metadata": {},
   "outputs": [
    {
     "name": "stdout",
     "output_type": "stream",
     "text": [
      "recall for wikimedia 0.72\n",
      "precision for wikimedia: 0.68\n",
      "f1 for wikimedia: 0.7\n",
      "auc for wikimedia: 0.7\n"
     ]
    }
   ],
   "source": [
    "# Decision Tree Classifier Model\n",
    "import pandas as pd\n",
    "\n",
    "wikimedia_file_path = '/Users/sarayabesi/Documents/Log6307/Replicate-article/data-files/IST_WIK.csv'\n",
    "wikimedia_data = pd.read_csv(wikimedia_file_path)\n",
    "wikimedia_data\n",
    "\n",
    "y = wikimedia_data.defect_status\n",
    "\n",
    "#X = mozilla_data.loc[:, 'URL':'SSH_KEY' ]\n",
    "X = wikimedia_data.iloc[:, 2: -1 ]\n",
    "\n",
    "\n",
    "from sklearn.model_selection import train_test_split\n",
    "train_X, val_X, train_y, val_y = train_test_split(X,y,random_state=1)\n",
    "\n",
    "\n",
    "\n",
    "from sklearn.tree import DecisionTreeClassifier\n",
    "wikimedia_model = DecisionTreeClassifier(random_state=0)\n",
    "wikimedia_model.fit(train_X, train_y)\n",
    "val_predictions = wikimedia_model.predict(val_X)\n",
    "\n",
    "#print (val_predictions);\n",
    "\n",
    "from sklearn.metrics import mean_absolute_error\n",
    "error = mean_absolute_error(val_y, val_predictions)\n",
    "#error\n",
    "\n",
    "from sklearn.metrics import recall_score\n",
    "wikimedia_recall = recall_score(val_y, val_predictions, average='binary',zero_division = 'warn')\n",
    "print(\"recall for wikimedia\",round(wikimedia_recall,2))\n",
    "\n",
    "from sklearn.metrics import precision_score\n",
    "wikimedia_precision=precision_score(val_y, val_predictions,average='binary', zero_division='warn')\n",
    "print(\"precision for wikimedia:\",round(wikimedia_precision , 2))\n",
    "\n",
    "\n",
    "from sklearn.metrics import f1_score\n",
    "wikimedia_f1= f1_score(val_y, val_predictions, average='binary')\n",
    "print(\"f1 for wikimedia:\",round(wikimedia_f1, 2))\n",
    "\n",
    "from sklearn.metrics import roc_auc_score\n",
    "wikimedia_auc = roc_auc_score(val_y, val_predictions, average=None);\n",
    "print(\"auc for wikimedia:\",round(wikimedia_auc,2))"
   ]
  },
  {
   "cell_type": "code",
   "execution_count": null,
   "id": "ad47acf2",
   "metadata": {},
   "outputs": [],
   "source": []
  }
 ],
 "metadata": {
  "kernelspec": {
   "display_name": "Python 3 (ipykernel)",
   "language": "python",
   "name": "python3"
  },
  "language_info": {
   "codemirror_mode": {
    "name": "ipython",
    "version": 3
   },
   "file_extension": ".py",
   "mimetype": "text/x-python",
   "name": "python",
   "nbconvert_exporter": "python",
   "pygments_lexer": "ipython3",
   "version": "3.9.12"
  }
 },
 "nbformat": 4,
 "nbformat_minor": 5
}
