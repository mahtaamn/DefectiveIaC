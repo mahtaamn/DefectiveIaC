{
 "cells": [
  {
   "cell_type": "code",
   "execution_count": 1,
   "id": "a669f4b1",
   "metadata": {},
   "outputs": [
    {
     "name": "stdout",
     "output_type": "stream",
     "text": [
      "recall for wikimedia after cv: 0.56\n",
      "precision for wikimedia after cv: 0.63\n",
      "f1 for wikimedia after cv: 0.63\n",
      "auc_cv for wikimedia after cv: 0.6\n"
     ]
    }
   ],
   "source": [
    "# Decision Tree Classifier Model\n",
    "import pandas as pd\n",
    "import numpy as np\n",
    "from sklearn.model_selection import cross_val_score\n",
    "\n",
    "wikimedia_file_path = '/Users/sarayabesi/Documents/Log6307/Replicate-article/data-files/IST_WIK.csv'\n",
    "wikimedia_data = pd.read_csv(wikimedia_file_path)\n",
    "wikimedia_data\n",
    "\n",
    "y = wikimedia_data.defect_status\n",
    "\n",
    "X = wikimedia_data.iloc[:, 2: -1 ]\n",
    "\n",
    "from sklearn.model_selection import train_test_split\n",
    "train_X, val_X, train_y, val_y = train_test_split(X,y,train_size = 0.9,random_state=1)\n",
    "\n",
    "from sklearn.tree import DecisionTreeClassifier\n",
    "wikimedia_model = DecisionTreeClassifier(random_state=0)\n",
    "wikimedia_model.fit(train_X, train_y)\n",
    "val_predictions = wikimedia_model.predict(val_X)\n",
    "\n",
    "wikimedia_recall_cv = cross_val_score(wikimedia_model, X, y, cv=10, scoring='recall')\n",
    "print(\"recall for wikimedia after cv:\",round(np.median(wikimedia_recall_cv) , 2))\n",
    "\n",
    "wikimedia_precision_cv = cross_val_score(wikimedia_model, X, y, cv=10, scoring='precision')\n",
    "print(\"precision for wikimedia after cv:\",round(np.median(wikimedia_precision_cv) , 2))\n",
    "\n",
    "wikimedia_f1_cv = cross_val_score(wikimedia_model, X, y, cv=10, scoring='f1')\n",
    "print(\"f1 for wikimedia after cv:\",round(np.median(wikimedia_f1_cv) , 2))\n",
    "\n",
    "wikimedia_auc_cv = cross_val_score(wikimedia_model, X, y, cv=10, scoring='roc_auc')\n",
    "print(\"auc_cv for wikimedia after cv:\",round(np.median(wikimedia_auc_cv) , 2))"
   ]
  },
  {
   "cell_type": "code",
   "execution_count": null,
   "id": "ad47acf2",
   "metadata": {},
   "outputs": [],
   "source": []
  },
  {
   "cell_type": "code",
   "execution_count": null,
   "id": "70eecb88",
   "metadata": {},
   "outputs": [],
   "source": []
  }
 ],
 "metadata": {
  "kernelspec": {
   "display_name": "Python 3 (ipykernel)",
   "language": "python",
   "name": "python3"
  },
  "language_info": {
   "codemirror_mode": {
    "name": "ipython",
    "version": 3
   },
   "file_extension": ".py",
   "mimetype": "text/x-python",
   "name": "python",
   "nbconvert_exporter": "python",
   "pygments_lexer": "ipython3",
   "version": "3.9.12"
  }
 },
 "nbformat": 4,
 "nbformat_minor": 5
}
