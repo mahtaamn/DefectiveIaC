{
 "cells": [
  {
   "cell_type": "code",
   "execution_count": 4,
   "id": "f5a0fedb",
   "metadata": {},
   "outputs": [
    {
     "name": "stdout",
     "output_type": "stream",
     "text": [
      "recall for mirantis: 0.52\n",
      "precision for mirantis: 0.78\n",
      "f1 for mirantis: 0.62\n",
      "auc for mirantis: 0.65\n"
     ]
    }
   ],
   "source": [
    "# Decision Tree Classifier Model\n",
    "import pandas as pd\n",
    "\n",
    "mirantis_file_path = '/Users/sarayabesi/Documents/Log6307/Replicate-article/data-files/IST_MIR.csv'\n",
    "mirantis_data = pd.read_csv(mirantis_file_path)\n",
    "mirantis_data\n",
    "\n",
    "y = mirantis_data.defect_status\n",
    "\n",
    "X= mirantis_data.iloc[:, 2: -1 ]\n",
    "\n",
    "\n",
    "\n",
    "from sklearn.model_selection import train_test_split\n",
    "train_X, val_X, train_y, val_y = train_test_split(X,y,random_state=0)\n",
    "\n",
    "\n",
    "\n",
    "from sklearn.tree import DecisionTreeClassifier\n",
    "mirantis_model = DecisionTreeClassifier(random_state=1)\n",
    "mirantis_model.fit(train_X, train_y)\n",
    "val_predictions = mirantis_model.predict(val_X)\n",
    "\n",
    "#print (val_predictions);\n",
    "\n",
    "from sklearn.metrics import mean_absolute_error\n",
    "error = mean_absolute_error(val_y, val_predictions)\n",
    "#error\n",
    "\n",
    "from sklearn.metrics import recall_score\n",
    "mirantis_recall = recall_score(val_y, val_predictions, average='binary',zero_division = 'warn')\n",
    "print(\"recall for mirantis:\",round(mirantis_recall,2))\n",
    "\n",
    "from sklearn.metrics import precision_score\n",
    "mirantis_precision=precision_score(val_y, val_predictions,average='binary', zero_division='warn')\n",
    "print(\"precision for mirantis:\",round(mirantis_precision , 2))\n",
    "\n",
    "\n",
    "from sklearn.metrics import f1_score\n",
    "mirantis_f1= f1_score(val_y, val_predictions, average='binary')\n",
    "print(\"f1 for mirantis:\",round(mirantis_f1, 2))\n",
    "\n",
    "from sklearn.metrics import roc_auc_score\n",
    "mirantis_auc = roc_auc_score(val_y, val_predictions, average=None);\n",
    "print(\"auc for mirantis:\",round(mirantis_auc,2))\n",
    "\n"
   ]
  },
  {
   "cell_type": "code",
   "execution_count": null,
   "id": "9e0975b7",
   "metadata": {},
   "outputs": [],
   "source": []
  },
  {
   "cell_type": "code",
   "execution_count": null,
   "id": "a278b67d",
   "metadata": {},
   "outputs": [],
   "source": []
  }
 ],
 "metadata": {
  "kernelspec": {
   "display_name": "Python 3 (ipykernel)",
   "language": "python",
   "name": "python3"
  },
  "language_info": {
   "codemirror_mode": {
    "name": "ipython",
    "version": 3
   },
   "file_extension": ".py",
   "mimetype": "text/x-python",
   "name": "python",
   "nbconvert_exporter": "python",
   "pygments_lexer": "ipython3",
   "version": "3.9.12"
  }
 },
 "nbformat": 4,
 "nbformat_minor": 5
}
