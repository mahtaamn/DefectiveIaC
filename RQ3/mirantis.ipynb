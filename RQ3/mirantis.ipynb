{
 "cells": [
  {
   "cell_type": "code",
   "execution_count": 1,
   "id": "fa143e8c",
   "metadata": {},
   "outputs": [
    {
     "name": "stdout",
     "output_type": "stream",
     "text": [
      "recall for mirantis after cv: 0.63\n",
      "precision for mirantis after cv: 0.67\n",
      "f1 for mirantis after cv: 0.63\n",
      "auc for mirantis after cv: 0.62\n"
     ]
    }
   ],
   "source": [
    "# Decision Tree Classifier Model\n",
    "# after cross validation\n",
    "import pandas as pd\n",
    "import numpy as np\n",
    "from sklearn.model_selection import cross_val_score\n",
    "\n",
    "mirantis_file_path = '/Users/sarayabesi/Documents/Log6307/Replicate-article/data-files/IST_MIR.csv'\n",
    "mirantis_data = pd.read_csv(mirantis_file_path)\n",
    "mirantis_data\n",
    "y = mirantis_data.defect_status\n",
    "X= mirantis_data.iloc[:, 2: -1 ]\n",
    "from sklearn.model_selection import train_test_split\n",
    "train_X, val_X, train_y, val_y = train_test_split(X,y,train_size = 0.9,random_state=1)\n",
    "\n",
    "from sklearn.tree import DecisionTreeClassifier\n",
    "mirantis_model = DecisionTreeClassifier(random_state=1)\n",
    "mirantis_model.fit(train_X, train_y)\n",
    "\n",
    "mirantis_recall_cv = cross_val_score(mirantis_model, X, y, cv=10, scoring='recall')\n",
    "print(\"recall for mirantis after cv:\",round(np.median(mirantis_recall_cv) , 2))\n",
    "\n",
    "mirantis_precision_cv = cross_val_score(mirantis_model, X, y, cv=10, scoring='precision')\n",
    "print(\"precision for mirantis after cv:\",round(np.median(mirantis_precision_cv) , 2))\n",
    "\n",
    "mirantis_f1_cv = cross_val_score(mirantis_model, X, y, cv=10, scoring='f1')\n",
    "print(\"f1 for mirantis after cv:\",round(np.median(mirantis_f1_cv) , 2))\n",
    "\n",
    "mirantis_auc_cv = cross_val_score(mirantis_model, X, y, cv=10, scoring='roc_auc')\n",
    "print(\"auc for mirantis after cv:\",round(np.median(mirantis_auc_cv) , 2))"
   ]
  },
  {
   "cell_type": "code",
   "execution_count": null,
   "id": "955569aa",
   "metadata": {},
   "outputs": [],
   "source": []
  }
 ],
 "metadata": {
  "kernelspec": {
   "display_name": "Python 3 (ipykernel)",
   "language": "python",
   "name": "python3"
  },
  "language_info": {
   "codemirror_mode": {
    "name": "ipython",
    "version": 3
   },
   "file_extension": ".py",
   "mimetype": "text/x-python",
   "name": "python",
   "nbconvert_exporter": "python",
   "pygments_lexer": "ipython3",
   "version": "3.9.12"
  }
 },
 "nbformat": 4,
 "nbformat_minor": 5
}
