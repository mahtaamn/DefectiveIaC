{
 "cells": [
  {
   "cell_type": "code",
   "execution_count": 1,
   "id": "abd7d1f8",
   "metadata": {},
   "outputs": [
    {
     "name": "stdout",
     "output_type": "stream",
     "text": [
      "recall for openstack 0.77\n",
      "precision for openstack: 0.71\n",
      "f1 for openstack: 0.74\n",
      "auc for openstack: 0.66\n"
     ]
    }
   ],
   "source": [
    "# Decision Tree Classifier Model\n",
    "import pandas as pd\n",
    "\n",
    "openstack_file_path = '/Users/sarayabesi/Documents/Log6307/Replicate-article/data-files/IST_OST.csv'\n",
    "openstack_data = pd.read_csv(openstack_file_path)\n",
    "openstack_data\n",
    "\n",
    "y = openstack_data.defect_status\n",
    "\n",
    "#X = mozilla_data.loc[:, 'URL':'SSH_KEY' ]\n",
    "X = openstack_data.iloc[:, 2: -1 ]\n",
    "\n",
    "\n",
    "from sklearn.model_selection import train_test_split\n",
    "train_X, val_X, train_y, val_y = train_test_split(X,y,random_state=1)\n",
    "\n",
    "\n",
    "\n",
    "from sklearn.tree import DecisionTreeClassifier\n",
    "openstack_model = DecisionTreeClassifier(random_state=0)\n",
    "openstack_model.fit(train_X, train_y)\n",
    "val_predictions = openstack_model.predict(val_X)\n",
    "\n",
    "\n",
    "from sklearn.metrics import mean_absolute_error\n",
    "error = mean_absolute_error(val_y, val_predictions)\n",
    "#error\n",
    "\n",
    "from sklearn.metrics import recall_score\n",
    "openstack_recall = recall_score(val_y, val_predictions, average='binary',zero_division = 'warn')\n",
    "print(\"recall for openstack\",round(openstack_recall,2))\n",
    "\n",
    "from sklearn.metrics import precision_score\n",
    "openstack_precision=precision_score(val_y, val_predictions,average='binary', zero_division='warn')\n",
    "print(\"precision for openstack:\",round(openstack_precision , 2))\n",
    "\n",
    "\n",
    "from sklearn.metrics import f1_score\n",
    "openstack_f1= f1_score(val_y, val_predictions, average='binary')\n",
    "print(\"f1 for openstack:\",round(openstack_f1, 2))\n",
    "\n",
    "from sklearn.metrics import roc_auc_score\n",
    "openstack_auc = roc_auc_score(val_y, val_predictions, average=None);\n",
    "print(\"auc for openstack:\",round(openstack_auc,2))"
   ]
  },
  {
   "cell_type": "code",
   "execution_count": null,
   "id": "b35b56e6",
   "metadata": {},
   "outputs": [],
   "source": []
  }
 ],
 "metadata": {
  "kernelspec": {
   "display_name": "Python 3 (ipykernel)",
   "language": "python",
   "name": "python3"
  },
  "language_info": {
   "codemirror_mode": {
    "name": "ipython",
    "version": 3
   },
   "file_extension": ".py",
   "mimetype": "text/x-python",
   "name": "python",
   "nbconvert_exporter": "python",
   "pygments_lexer": "ipython3",
   "version": "3.9.12"
  }
 },
 "nbformat": 4,
 "nbformat_minor": 5
}
