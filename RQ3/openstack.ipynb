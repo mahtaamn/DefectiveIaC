{
 "cells": [
  {
   "cell_type": "code",
   "execution_count": 1,
   "id": "abd7d1f8",
   "metadata": {},
   "outputs": [
    {
     "name": "stdout",
     "output_type": "stream",
     "text": [
      "recall for openstack after cv: 0.5\n",
      "precision for openstack after cv: 0.5\n",
      "f1 for openstack after cv: 0.5\n",
      "auc_cv for openstack after cv: 0.41\n"
     ]
    }
   ],
   "source": [
    "# Decision Tree Classifier Model\n",
    "import pandas as pd\n",
    "import numpy as np\n",
    "from sklearn.model_selection import cross_val_score\n",
    "\n",
    "openstack_file_path = '/Users/sarayabesi/Documents/Log6307/Replicate-article/data-files/IST_OST.csv'\n",
    "openstack_data = pd.read_csv(openstack_file_path)\n",
    "openstack_data\n",
    "\n",
    "y = openstack_data.defect_status\n",
    "\n",
    "X = openstack_data.iloc[:, 2: -1 ]\n",
    "\n",
    "from sklearn.model_selection import train_test_split\n",
    "train_X, val_X, train_y, val_y = train_test_split(X,y,train_size = 0.9,random_state=1)\n",
    "\n",
    "from sklearn.tree import DecisionTreeClassifier\n",
    "openstack_model = DecisionTreeClassifier(random_state=0)\n",
    "openstack_model.fit(train_X, train_y)\n",
    "val_predictions = openstack_model.predict(val_X)\n",
    "\n",
    "openstack_recall_cv = cross_val_score(openstack_model, X, y, cv=10, scoring='recall')\n",
    "print(\"recall for openstack after cv:\",round(np.median(openstack_recall_cv) , 2))\n",
    "\n",
    "openstack_precision_cv = cross_val_score(openstack_model, X, y, cv=10, scoring='precision')\n",
    "print(\"precision for openstack after cv:\",round(np.median(openstack_precision_cv) , 2))\n",
    "\n",
    "openstack_f1_cv = cross_val_score(openstack_model, X, y, cv=10, scoring='f1')\n",
    "print(\"f1 for openstack after cv:\",round(np.median(openstack_f1_cv) , 2))\n",
    "\n",
    "openstack_auc_cv = cross_val_score(openstack_model, X, y, cv=10, scoring='roc_auc')\n",
    "print(\"auc_cv for openstack after cv:\",round(np.median(openstack_auc_cv) , 2))"
   ]
  },
  {
   "cell_type": "code",
   "execution_count": 3,
   "id": "b35b56e6",
   "metadata": {},
   "outputs": [
    {
     "name": "stdout",
     "output_type": "stream",
     "text": [
      "recall for openstack 0.77\n",
      "precision for openstack: 0.71\n",
      "f1 for openstack: 0.74\n",
      "auc for openstack: 0.66\n"
     ]
    }
   ],
   "source": []
  },
  {
   "cell_type": "code",
   "execution_count": null,
   "id": "00f0152f",
   "metadata": {},
   "outputs": [],
   "source": []
  }
 ],
 "metadata": {
  "kernelspec": {
   "display_name": "Python 3 (ipykernel)",
   "language": "python",
   "name": "python3"
  },
  "language_info": {
   "codemirror_mode": {
    "name": "ipython",
    "version": 3
   },
   "file_extension": ".py",
   "mimetype": "text/x-python",
   "name": "python",
   "nbconvert_exporter": "python",
   "pygments_lexer": "ipython3",
   "version": "3.9.12"
  }
 },
 "nbformat": 4,
 "nbformat_minor": 5
}
