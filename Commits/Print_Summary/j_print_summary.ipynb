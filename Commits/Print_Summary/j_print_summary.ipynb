{
 "cells": [
  {
   "cell_type": "code",
   "execution_count": 35,
   "metadata": {},
   "outputs": [
    {
     "data": {
      "text/html": [
       "<div>\n",
       "<style scoped>\n",
       "    .dataframe tbody tr th:only-of-type {\n",
       "        vertical-align: middle;\n",
       "    }\n",
       "\n",
       "    .dataframe tbody tr th {\n",
       "        vertical-align: top;\n",
       "    }\n",
       "\n",
       "    .dataframe thead th {\n",
       "        text-align: right;\n",
       "    }\n",
       "</style>\n",
       "<table border=\"1\" class=\"dataframe\">\n",
       "  <thead>\n",
       "    <tr style=\"text-align: right;\">\n",
       "      <th></th>\n",
       "      <th>Dataset Name</th>\n",
       "      <th>Mirantis</th>\n",
       "      <th>Openstack</th>\n",
       "      <th>Wikimedia</th>\n",
       "    </tr>\n",
       "  </thead>\n",
       "  <tbody>\n",
       "    <tr>\n",
       "      <th>0</th>\n",
       "      <td>Number of all Commits in Repository</td>\n",
       "      <td>3337</td>\n",
       "      <td>13256</td>\n",
       "      <td>160019</td>\n",
       "    </tr>\n",
       "    <tr>\n",
       "      <th>1</th>\n",
       "      <td>Number of Commits with Puppet Script Modification</td>\n",
       "      <td>1254</td>\n",
       "      <td>4780</td>\n",
       "      <td>66360</td>\n",
       "    </tr>\n",
       "    <tr>\n",
       "      <th>2</th>\n",
       "      <td>Number of Puppet Script</td>\n",
       "      <td>1880</td>\n",
       "      <td>1354</td>\n",
       "      <td>1036</td>\n",
       "    </tr>\n",
       "  </tbody>\n",
       "</table>\n",
       "</div>"
      ],
      "text/plain": [
       "                                        Dataset Name  Mirantis  Openstack  \\\n",
       "0                Number of all Commits in Repository      3337      13256   \n",
       "1  Number of Commits with Puppet Script Modification      1254       4780   \n",
       "2                            Number of Puppet Script      1880       1354   \n",
       "\n",
       "   Wikimedia  \n",
       "0     160019  \n",
       "1      66360  \n",
       "2       1036  "
      ]
     },
     "execution_count": 35,
     "metadata": {},
     "output_type": "execute_result"
    }
   ],
   "source": [
    "# importing pandas as pd\n",
    "import pandas as pd\n",
    "from tabulate import tabulate\n",
    "\n",
    "# read an excel file and convert \n",
    "# into a dataframe object\n",
    "df1 = pd.DataFrame(pd.read_excel(\"Summary-Repo.xlsx\"))\n",
    "df2 = pd.DataFrame(pd.read_excel(\"Summary-Commit.xlsx\"))\n",
    "# show the dataframe\n",
    "df2\n",
    "#print(\"****\")\n",
    "#print(df2)\n",
    "#from IPython.display import display, HTML\n",
    "\n",
    "#with pd.option_context('display.max_rows', None, 'display.max_columns', None):  # more options can be specified also\n",
    " #   print(df2)\n",
    "#print(tabulate(df, headers='keys', tablefmt='psql'))"
   ]
  },
  {
   "cell_type": "code",
   "execution_count": null,
   "metadata": {},
   "outputs": [],
   "source": []
  },
  {
   "cell_type": "code",
   "execution_count": null,
   "metadata": {},
   "outputs": [],
   "source": []
  },
  {
   "cell_type": "code",
   "execution_count": null,
   "metadata": {},
   "outputs": [],
   "source": []
  }
 ],
 "metadata": {
  "kernelspec": {
   "display_name": "Python 3 (ipykernel)",
   "language": "python",
   "name": "python3"
  },
  "language_info": {
   "codemirror_mode": {
    "name": "ipython",
    "version": 3
   },
   "file_extension": ".py",
   "mimetype": "text/x-python",
   "name": "python",
   "nbconvert_exporter": "python",
   "pygments_lexer": "ipython3",
   "version": "3.9.12"
  }
 },
 "nbformat": 4,
 "nbformat_minor": 1
}
