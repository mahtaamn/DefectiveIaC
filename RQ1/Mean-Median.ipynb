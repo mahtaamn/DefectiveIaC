{
 "cells": [
  {
   "cell_type": "code",
   "execution_count": 10,
   "id": "7385db60",
   "metadata": {},
   "outputs": [
    {
     "name": "stdout",
     "output_type": "stream",
     "text": [
      "file length: 180\n",
      "mean: 26.211111111111112\n",
      "median: 6.5\n"
     ]
    }
   ],
   "source": [
    "import pandas as pd\n",
    "from sklearn.ensemble import RandomForestClassifier\n",
    "import time\n",
    "import numpy as np\n",
    "import csv\n",
    "import matplotlib.pyplot as plt\n",
    "import pathlib\n",
    "import sys\n",
    "\n",
    "\n",
    "file_path = \"IF_Data/IST_MIR.csv\"\n",
    "file_data = pd.read_csv(file_path)\n",
    "\n",
    "print(\"file length:\",len(file_data))\n",
    "\n",
    "dfMean = file_data[\"Attribute\"].mean()\n",
    "\n",
    "dfDefective = file_data['defect_status'] == 1\n",
    "dfNeutral = file_data[file_data['defect_status'] == 0]\n",
    "\n",
    "#print(dfNeutral)\n",
    "\n",
    "dfMedian = dfNeutral[\"Attribute\"].median()\n",
    "\n",
    "print(\"mean:\",dfMean)\n",
    "print(\"median:\",dfMedian)"
   ]
  },
  {
   "cell_type": "code",
   "execution_count": null,
   "id": "70b0461a",
   "metadata": {},
   "outputs": [],
   "source": []
  }
 ],
 "metadata": {
  "kernelspec": {
   "display_name": "Python 3 (ipykernel)",
   "language": "python",
   "name": "python3"
  },
  "language_info": {
   "codemirror_mode": {
    "name": "ipython",
    "version": 3
   },
   "file_extension": ".py",
   "mimetype": "text/x-python",
   "name": "python",
   "nbconvert_exporter": "python",
   "pygments_lexer": "ipython3",
   "version": "3.9.12"
  }
 },
 "nbformat": 4,
 "nbformat_minor": 5
}
